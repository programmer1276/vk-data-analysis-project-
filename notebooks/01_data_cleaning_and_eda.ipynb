# 🧹 Очистка и анализ данных VK

import pandas as pd
import numpy as np
import matplotlib.pyplot as plt
import seaborn as sns

# Настройка графиков
sns.set_style("whitegrid")
plt.rcParams['figure.figsize'] = (10, 6)

# Загрузка данных
df = pd.read_csv('../data/raw/posts_raw.csv')
df.head()

df.info()

# Очистка
df = df.drop_duplicates()
df['author_city'] = df['author_city'].fillna('Не указано')
df = df.dropna(subset=['post_text'])
df['post_date'] = pd.to_datetime(df['post_date'])
df['likes'] = df['likes'].astype(int)
df = df[df['likes'] < 10000]

# Нормализация
authors = df[['author_id', 'author_name', 'author_city']].drop_duplicates().reset_index(drop=True)
posts = df[['post_id', 'author_id', 'post_text', 'likes', 'shares', 'post_date', 'group_id']].copy()

authors.to_csv('../data/processed/authors.csv', index=False)
posts.to_csv('../data/processed/posts.csv', index=False)


# EDA: распределение лайков
sns.histplot(posts['likes'], bins=50, kde=True)
plt.title('Распределение лайков')
plt.show()


# EDA: активность по часам
posts['hour'] = posts['post_date'].dt.hour
sns.countplot(data=posts, x='hour')
plt.title('Публикации по часам')
plt.show()


# Гипотеза: влияет ли длина поста на лайки?
posts['word_count'] = posts['post_text'].str.split().str.len()
sns.scatterplot(data=posts, x='word_count', y='likes', alpha=0.5)
plt.title('Лайки vs Длина поста (слов)')
plt.show()

print("Анализ завершён. Гипотезы сформулированы.")
